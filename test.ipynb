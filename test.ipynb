{
 "cells": [
  {
   "cell_type": "code",
   "execution_count": null,
   "metadata": {},
   "outputs": [],
   "source": [
    "from django.conf.urls import url\n",
    "from dwh.views import (\n",
    "    log_custom_event,\n",
    "    log_custom_events_batch,\n",
    "    log_screen_visits_view,\n",
    "    log_branchio_data,\n",
    "    log_branchio_webhook_view,\n",
    "    log_external_page_visits,\n",
    "    dev_empty_response, extract_get_data_from_ip,\n",
    ")\n",
    "\n",
    "\n",
    "urlpatterns = [\n",
    "    url(r'^log_event$', log_custom_event, name='log_custom_event'),\n",
    "    url(r'^log_events_batch$', log_custom_events_batch, name='log_custom_events_batch'),\n",
    "    url(r'^log_screens$', log_screen_visits_view, name='log_screens'),\n",
    "    url(r'^log_pages$', log_external_page_visits, name='log_external_page_visits'),\n",
    "    url(r'^branchio_app', log_branchio_data, name='log_branchio_data'),\n",
    "    url(r'^branchio_webhook', log_branchio_webhook_view, name='log_branchio_webhook_view'),\n",
    "    url(r'^dev_empty_response', dev_empty_response, name='dev_empty_response'),\n",
    "    url(r'^extract_geo_info', extract_get_data_from_ip, name='extract_geo_info'),\n",
    "]"
   ]
  },
  {
   "cell_type": "code",
   "execution_count": null,
   "metadata": {},
   "outputs": [],
   "source": []
  }
 ],
 "metadata": {
  "language_info": {
   "name": "python"
  },
  "orig_nbformat": 4
 },
 "nbformat": 4,
 "nbformat_minor": 2
}
