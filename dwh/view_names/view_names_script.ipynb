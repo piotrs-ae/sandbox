{
 "cells": [
  {
   "cell_type": "code",
   "execution_count": 82,
   "metadata": {},
   "outputs": [
    {
     "data": {
      "text/html": [
       "<div>\n",
       "<style scoped>\n",
       "    .dataframe tbody tr th:only-of-type {\n",
       "        vertical-align: middle;\n",
       "    }\n",
       "\n",
       "    .dataframe tbody tr th {\n",
       "        vertical-align: top;\n",
       "    }\n",
       "\n",
       "    .dataframe thead th {\n",
       "        text-align: right;\n",
       "    }\n",
       "</style>\n",
       "<table border=\"1\" class=\"dataframe\">\n",
       "  <thead>\n",
       "    <tr style=\"text-align: right;\">\n",
       "      <th></th>\n",
       "      <th>url</th>\n",
       "      <th>view_name</th>\n",
       "      <th>view_type</th>\n",
       "    </tr>\n",
       "  </thead>\n",
       "  <tbody>\n",
       "    <tr>\n",
       "      <th>0</th>\n",
       "      <td>https://preply.com/dwh/log_events_batch</td>\n",
       "      <td>test_view</td>\n",
       "      <td>user</td>\n",
       "    </tr>\n",
       "  </tbody>\n",
       "</table>\n",
       "</div>"
      ],
      "text/plain": [
       "                                       url  view_name view_type\n",
       "0  https://preply.com/dwh/log_events_batch  test_view      user"
      ]
     },
     "execution_count": 82,
     "metadata": {},
     "output_type": "execute_result"
    }
   ],
   "source": [
    "import requests\n",
    "import pandas as pd\n",
    "\n",
    "def add_user_entry(results, url, view_name, user_type='non_user'):\n",
    "    results.append( {\n",
    "                    'url' : url,\n",
    "                    'view_name' : view_name,\n",
    "                    'view_type' : user_type\n",
    "                })\n",
    "\n",
    "def process_urls(view_name, urls):\n",
    "    non_user_keywords = ['braze', 'crew', 'api', 'dwh']\n",
    "    keyword_marker = 0\n",
    "    results = []\n",
    "\n",
    "    for url in urls:\n",
    "        response = requests.get(url, allow_redirects=False)\n",
    "        try:\n",
    "            response.headers['Access-Control-Allow-Credentials']\n",
    "        except:\n",
    "            for keyword in non_user_keywords:\n",
    "                if (keyword in url or keyword in view_name):\n",
    "                    keyword_marker = 1\n",
    "                    break\n",
    "                else:\n",
    "                    continue\n",
    "                    \n",
    "            if keyword_marker == 0:\n",
    "                add_user_entry(results, url, view_name, 'user')\n",
    "            break\n",
    "        else:\n",
    "            continue\n",
    "    \n",
    "\n",
    "    if results:\n",
    "        return pd.DataFrame(results)\n",
    "    else:\n",
    "        add_user_entry(results, url, view_name, 'non_user')\n",
    "        return pd.DataFrame(results)\n",
    "\n",
    "view_name = 'test_view'\n",
    "urls = [   'https://preply.com/dwh/log_events_batch'\n",
    ", 'https://preply.com/graphql/'\n",
    ", 'https://preply.com/dwh/log_events_batch'\n",
    ", 'https://preply.com/api/log_flag/exp_cro_two_decimals_in_tutors_reviews?origin_page_alias=search&page_load_id=v1-1684713885057-5237908285096'\n",
    ", 'https://preply.com/graphql/'\n",
    ", 'https://preply.com/graphql/'\n",
    ", 'https://preply.com/graphql/'\n",
    ", 'https://preply.com/api/log_flag/exp_add_cta_on_top_tutor_card?origin_page_alias=search&page_load_id=v1-1684714013164-2863765155696'\n",
    ", 'https://preply.com/graphql/'\n",
    ", 'https://preply.com/graphql/'\n",
    "]\n",
    "\n",
    "results = process_urls(view_name, urls)\n",
    "\n",
    "results\n"
   ]
  },
  {
   "cell_type": "code",
   "execution_count": 78,
   "metadata": {},
   "outputs": [],
   "source": [
    "def get_response_headers(url):\n",
    "    response = requests.get(url)\n",
    "    headers = response.headers\n",
    "    host = response.url.split('//')[-1].split('/')[0]\n",
    "    status_code = response.status_code\n",
    "\n",
    "    headers['Host'] = host\n",
    "    headers['Status Code'] = status_code\n",
    "\n",
    "    return headers\n",
    "\n",
    "url = 'https://preply.com/en/tutor/160148'\n",
    "\n",
    "response_headers = get_response_headers(url)\n",
    "\n",
    "df = pd.DataFrame([response_headers])"
   ]
  },
  {
   "cell_type": "code",
   "execution_count": 79,
   "metadata": {},
   "outputs": [
    {
     "data": {
      "text/plain": [
       "\"default-src wss: data: blob: preply: chrome-extension: ms-appx-web: https: *.preply.com 'unsafe-inline' 'self'; img-src 'self' data: blob: https: preply: chrome-extension: ms-appx-web: *.preply.com neuvoo.ca; object-src 'self' *.preply.com; block-all-mixed-content; script-src 'self' data: blob: *.preply.com preply.com www.googleadservices.com www.redditstatic.com analytics.tiktok.com *.zoominfo.com js.zi-scripts.com tags.clickagy.com aorta.clickagy.com hemsync.clickagy.com hemsync.clickagy.com cdn.pdst.fm *.tvsquared.com *.onesignal.com onesignal.com snap.licdn.com px.ads.linkedin.com js.appboycdn.com app.link *.sumome.com www.gstatic.com *.doubleclick.net *.sumo.com *.branch.io *.google.com *.bing.com *.opentok.com *.hotjar.com *.hotjar.io *.facebook.net www.googletagmanager.com *.google-analytics.com *.intercomcdn.com *.intercom.io *.stripe.com *.googleapis.com *.youtube.com *.ytimg.com *.ampproject.org *.googlesyndication.com *.trustpilot.com www.dwin1.com www.awin1.com www.zenaps.com the.sciencebehindecommerce.com amplify.outbrain.com tr.outbrain.com 'unsafe-eval' 'unsafe-inline' api.braintreegateway.com assets.braintreegateway.com client-analytics.braintreegateway.com js.braintreegateway.com *.braintree-api.com *.paypal.com pay.google.com songbird.cardinalcommerce.com sc-static.net player.vimeo.com ajax.cloudflare.com preply.us1.list-manage.com cdn.cookielaw.org geolocation.onetrust.com cdn-cookieyes.com www.clickcease.com click.appcast.io boards.greenhouse.io *.clarity.ms tags.crwdcntrl.net *.hs-scripts.com *.hubspot.com *.hscollectedforms.net *.hsadspixel.net *.hs-banner.com *.hs-analytics.net *.hsforms.com *.hsleadflows.net *.usemessages.com init.blackcrow.ai unpkg.com *.hscta.net static.learncube.net *.ubembed.com; frame-ancestors 'self' www.upward.net; report-uri https://sentry-ext.preply.org/api/48/security/?sentry_key=f9d940af8b044614932c632dd13ccad6&sentry_environment=production\""
      ]
     },
     "execution_count": 79,
     "metadata": {},
     "output_type": "execute_result"
    }
   ],
   "source": [
    "df['Content-Security-Policy'][0]"
   ]
  }
 ],
 "metadata": {
  "kernelspec": {
   "display_name": "Python 3",
   "language": "python",
   "name": "python3"
  },
  "language_info": {
   "codemirror_mode": {
    "name": "ipython",
    "version": 3
   },
   "file_extension": ".py",
   "mimetype": "text/x-python",
   "name": "python",
   "nbconvert_exporter": "python",
   "pygments_lexer": "ipython3",
   "version": "3.11.3"
  },
  "orig_nbformat": 4
 },
 "nbformat": 4,
 "nbformat_minor": 2
}
