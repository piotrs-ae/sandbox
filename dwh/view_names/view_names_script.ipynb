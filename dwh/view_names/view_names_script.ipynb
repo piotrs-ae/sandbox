{
 "cells": [
  {
   "cell_type": "code",
   "execution_count": 68,
   "metadata": {},
   "outputs": [
    {
     "data": {
      "text/html": [
       "<div>\n",
       "<style scoped>\n",
       "    .dataframe tbody tr th:only-of-type {\n",
       "        vertical-align: middle;\n",
       "    }\n",
       "\n",
       "    .dataframe tbody tr th {\n",
       "        vertical-align: top;\n",
       "    }\n",
       "\n",
       "    .dataframe thead th {\n",
       "        text-align: right;\n",
       "    }\n",
       "</style>\n",
       "<table border=\"1\" class=\"dataframe\">\n",
       "  <thead>\n",
       "    <tr style=\"text-align: right;\">\n",
       "      <th></th>\n",
       "      <th>url</th>\n",
       "      <th>view_name</th>\n",
       "      <th>view_type</th>\n",
       "    </tr>\n",
       "  </thead>\n",
       "  <tbody>\n",
       "    <tr>\n",
       "      <th>0</th>\n",
       "      <td>https://preply.com/api/log_flag/exp_cro_two_de...</td>\n",
       "      <td>test_view</td>\n",
       "      <td>user</td>\n",
       "    </tr>\n",
       "  </tbody>\n",
       "</table>\n",
       "</div>"
      ],
      "text/plain": [
       "                                                 url  view_name view_type\n",
       "0  https://preply.com/api/log_flag/exp_cro_two_de...  test_view      user"
      ]
     },
     "execution_count": 68,
     "metadata": {},
     "output_type": "execute_result"
    }
   ],
   "source": [
    "import requests\n",
    "import pandas as pd\n",
    "\n",
    "def process_urls(view_name, urls):\n",
    "    results = []\n",
    "\n",
    "    for url in urls:\n",
    "        response = requests.get(url, allow_redirects=False)\n",
    "        try:\n",
    "            response.headers['Access-Control-Allow-Credentials']\n",
    "        except:\n",
    "            if response.status_code == 200:\n",
    "                results.append( {\n",
    "                    'url' : url,\n",
    "                    'view_name' : view_name,\n",
    "                    'view_type' : 'user'\n",
    "                })\n",
    "                break\n",
    "            else:\n",
    "                continue\n",
    "        else:\n",
    "            continue\n",
    "    \n",
    "\n",
    "    if results:\n",
    "        return pd.DataFrame(results)\n",
    "    else:\n",
    "        results.append( {\n",
    "                'view_name' : view_name,\n",
    "                'view_type' : 'non_user'\n",
    "            })\n",
    "        return pd.DataFrame(results)\n",
    "\n",
    "view_name = 'test_view'\n",
    "urls = [   'https://preply.com/dwh/log_events_batch'\n",
    ", 'https://preply.com/graphql/'\n",
    ", 'https://preply.com/dwh/log_events_batch'\n",
    ", 'https://preply.com/api/log_flag/exp_cro_two_decimals_in_tutors_reviews?origin_page_alias=search&page_load_id=v1-1684713885057-5237908285096'\n",
    ", 'https://preply.com/graphql/'\n",
    ", 'https://preply.com/graphql/'\n",
    ", 'https://preply.com/graphql/'\n",
    ", 'https://preply.com/api/log_flag/exp_add_cta_on_top_tutor_card?origin_page_alias=search&page_load_id=v1-1684714013164-2863765155696'\n",
    ", 'https://preply.com/graphql/'\n",
    ", 'https://preply.com/graphql/'\n",
    "]\n",
    "\n",
    "results = process_urls(view_name, urls)\n",
    "\n",
    "results\n"
   ]
  },
  {
   "cell_type": "code",
   "execution_count": 65,
   "metadata": {},
   "outputs": [],
   "source": [
    "def get_response_headers(url):\n",
    "    response = requests.get(url)\n",
    "    headers = response.headers\n",
    "    host = response.url.split('//')[-1].split('/')[0]\n",
    "    status_code = response.status_code\n",
    "\n",
    "    headers['Host'] = host\n",
    "    headers['Status Code'] = status_code\n",
    "\n",
    "    return headers\n",
    "\n",
    "url = 'https://preply.com/api/log_flag/exp_cro_two_decimals_in_tutors_reviews?origin_page_alias=search&page_load_id=v1-1684713885057-5237908285096'\n",
    "\n",
    "response_headers = get_response_headers(url)\n",
    "\n",
    "df = pd.DataFrame([response_headers])"
   ]
  }
 ],
 "metadata": {
  "kernelspec": {
   "display_name": "Python 3",
   "language": "python",
   "name": "python3"
  },
  "language_info": {
   "codemirror_mode": {
    "name": "ipython",
    "version": 3
   },
   "file_extension": ".py",
   "mimetype": "text/x-python",
   "name": "python",
   "nbconvert_exporter": "python",
   "pygments_lexer": "ipython3",
   "version": "3.11.3"
  },
  "orig_nbformat": 4
 },
 "nbformat": 4,
 "nbformat_minor": 2
}
